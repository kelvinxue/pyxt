{
 "cells": [
  {
   "cell_type": "markdown",
   "id": "a3ccd7cd-3b5c-482c-8dd4-5d58345f6467",
   "metadata": {},
   "source": [
    "# Get Started\n",
    "## Install python package\n",
    "You can install `pyxt` from PyPi"
   ]
  },
  {
   "cell_type": "code",
   "execution_count": null,
   "id": "7954c02b-7e02-4568-bdc8-de0984ac7f4d",
   "metadata": {},
   "outputs": [],
   "source": [
    "! pip install pyxt --upgrade"
   ]
  },
  {
   "cell_type": "markdown",
   "id": "de7bd7c0-cc16-475e-a7c1-98e5c09dd1b7",
   "metadata": {},
   "source": [
    "## Sign up as an XT user\n",
    "Please refer to [Create account](https://www.xt.com/en/accounts/register)\n",
    "## Create API Key\n",
    "Please refer to [Create API Key](https://www.xt.com/en/accounts/user/api)\n",
    "## Import Perp API"
   ]
  },
  {
   "cell_type": "code",
   "execution_count": null,
   "id": "0f4a438a-7057-442c-a169-bab4ed42e66e",
   "metadata": {},
   "outputs": [],
   "source": [
    "from pyxt.perp import Perp"
   ]
  },
  {
   "cell_type": "markdown",
   "id": "60dfd544-d14a-435a-9d5e-a4289314e83e",
   "metadata": {},
   "source": [
    "## Fill in your API key and Secret key"
   ]
  },
  {
   "cell_type": "code",
   "execution_count": null,
   "id": "26d414a9-43b0-42e1-b6bc-bb9e8ac7e541",
   "metadata": {},
   "outputs": [],
   "source": [
    "api_key = \"xxxxx\"\n",
    "secret_key = \"xxxxx\"\n",
    "xt = Perp(host=\"https://fapi.xt.com\", access_key='', secret_key='')"
   ]
  },
  {
   "cell_type": "markdown",
   "id": "c702190e-b0c3-4266-92fc-107eba04dee1",
   "metadata": {},
   "source": [
    "## Get available funds"
   ]
  },
  {
   "cell_type": "code",
   "execution_count": null,
   "id": "691e4ead-6c21-4c69-9fae-b0588d276893",
   "metadata": {},
   "outputs": [],
   "source": [
    "print(xt.get_account_capital())"
   ]
  },
  {
   "cell_type": "markdown",
   "id": "812f15a7-700b-47ae-9861-e529392fe530",
   "metadata": {},
   "source": [
    "## Get market data book tickers"
   ]
  },
  {
   "cell_type": "code",
   "execution_count": null,
   "id": "809ab242-1956-4705-af10-b7d73e6603b8",
   "metadata": {},
   "outputs": [],
   "source": [
    "print(xt.get_book_ticker(symbol='btc_usdt'))"
   ]
  },
  {
   "cell_type": "markdown",
   "id": "0e3deb17-a35e-412d-a8f7-9c688bab0c69",
   "metadata": {},
   "source": [
    "## Get market data depth"
   ]
  },
  {
   "cell_type": "code",
   "execution_count": null,
   "id": "706b6483-07c1-48fd-838b-111aa5b3cd9d",
   "metadata": {},
   "outputs": [],
   "source": [
    "print(xt.get_depth(symbol='btc_usdt', depth=10))"
   ]
  },
  {
   "cell_type": "markdown",
   "id": "83da3f75-96fb-4e88-a27e-77a5405cecae",
   "metadata": {},
   "source": [
    "## Get market data klines"
   ]
  },
  {
   "cell_type": "code",
   "execution_count": null,
   "id": "0b2b9981-15de-4614-988d-de21ae326873",
   "metadata": {},
   "outputs": [],
   "source": [
    "print(xt.get_depth(symbol='btc_usdt', depth=10))"
   ]
  },
  {
   "cell_type": "markdown",
   "id": "64156f66-66e4-4729-9030-641bafa37d43",
   "metadata": {},
   "source": [
    "## Get symbol information"
   ]
  },
  {
   "cell_type": "code",
   "execution_count": null,
   "id": "1c4a8846-457d-4504-8c7c-ca3492b44e26",
   "metadata": {},
   "outputs": [],
   "source": [
    "print(xt.get_market_config(symbol='btc_usdt'))"
   ]
  },
  {
   "cell_type": "markdown",
   "id": "ea6211a4-79f9-4cd5-a076-f1a7099e0e70",
   "metadata": {},
   "source": [
    "## Place a limit order"
   ]
  },
  {
   "cell_type": "code",
   "execution_count": null,
   "id": "7265b16a-3f2f-4556-965f-da157f09eb92",
   "metadata": {},
   "outputs": [],
   "source": [
    "res = xt.send_order(symbol='btc_usdt', price=10000, amount=1, order_side='BUY', order_type='LIMIT', position_side='LONG')\n",
    "print(res)"
   ]
  },
  {
   "cell_type": "markdown",
   "id": "5422d53e-f7fd-4bc7-9c00-4be1bce6d2bb",
   "metadata": {},
   "source": [
    "## Place a market order"
   ]
  },
  {
   "cell_type": "code",
   "execution_count": null,
   "id": "7eabbeed-a1d1-40ae-8356-2a495227d464",
   "metadata": {},
   "outputs": [],
   "source": [
    "res = xt.send_order(symbol='btc_usdt', price=10000, amount=1, order_side='BUY', order_type='MARKET', position_side='LONG')\n",
    "print(res)"
   ]
  },
  {
   "cell_type": "markdown",
   "id": "2efe099c-09ca-4057-af7d-7c31d218b177",
   "metadata": {},
   "source": [
    "## Cancel order"
   ]
  },
  {
   "cell_type": "code",
   "execution_count": null,
   "id": "35f9fc73-1b6d-4553-b075-eca3bbed5f27",
   "metadata": {},
   "outputs": [],
   "source": [
    "res = xt.cancel_order(order_id=12345678)\n",
    "print(res)"
   ]
  },
  {
   "cell_type": "markdown",
   "id": "10410934-fc39-49d3-8923-b80cc495fb6b",
   "metadata": {},
   "source": [
    "## Open Long"
   ]
  },
  {
   "cell_type": "code",
   "execution_count": null,
   "id": "6079954e-a7cd-4713-a9d8-e92ab8aa610f",
   "metadata": {},
   "outputs": [],
   "source": [
    "res = xt.send_order(symbol='btc_usdt', price=10000, amount=1, order_side='BUY', order_type='LIMIT', position_side='LONG')\n",
    "print(res)"
   ]
  },
  {
   "cell_type": "markdown",
   "id": "02fb2a58-ef8f-4fe1-ac3f-e77cb5a86b64",
   "metadata": {},
   "source": [
    "## Close Long"
   ]
  },
  {
   "cell_type": "code",
   "execution_count": null,
   "id": "0bb2c558-da23-432a-be91-68c17feed488",
   "metadata": {},
   "outputs": [],
   "source": [
    "res = xt.send_order(symbol='btc_usdt', price=10000, amount=1, order_side='SELL', order_type='LIMIT', position_side='LONG')\n",
    "print(res)"
   ]
  },
  {
   "cell_type": "markdown",
   "id": "c6af8c4e-546e-44a4-87bf-6e4a39aaf57c",
   "metadata": {},
   "source": [
    "## Open Short"
   ]
  },
  {
   "cell_type": "code",
   "execution_count": null,
   "id": "28b92706-d33f-46b1-b3db-de5083581894",
   "metadata": {},
   "outputs": [],
   "source": [
    "res = xt.send_order(symbol='btc_usdt', price=10000, amount=1, order_side='SELL', order_type='LIMIT', position_side='SHORT')\n",
    "print(res)"
   ]
  },
  {
   "cell_type": "markdown",
   "id": "964f7a78-35f1-411e-8713-0fec2c3ea676",
   "metadata": {},
   "source": [
    "## Close Short"
   ]
  },
  {
   "cell_type": "code",
   "execution_count": null,
   "id": "8aeeef59-fb78-4dcc-b555-60a41cd48923",
   "metadata": {},
   "outputs": [],
   "source": [
    "res = xt.send_order(symbol='btc_usdt', price=10000, amount=1, order_side='BUY', order_type='LIMIT', position_side='SHORT')\n",
    "print(res)"
   ]
  }
 ],
 "metadata": {
  "kernelspec": {
   "display_name": "Python 3 (ipykernel)",
   "language": "python",
   "name": "python3"
  },
  "language_info": {
   "codemirror_mode": {
    "name": "ipython",
    "version": 3
   },
   "file_extension": ".py",
   "mimetype": "text/x-python",
   "name": "python",
   "nbconvert_exporter": "python",
   "pygments_lexer": "ipython3",
   "version": "3.12.4"
  }
 },
 "nbformat": 4,
 "nbformat_minor": 5
}
